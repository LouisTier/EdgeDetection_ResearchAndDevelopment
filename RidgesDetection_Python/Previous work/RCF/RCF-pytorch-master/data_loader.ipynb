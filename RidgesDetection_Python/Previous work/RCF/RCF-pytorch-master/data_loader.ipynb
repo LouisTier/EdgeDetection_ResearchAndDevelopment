{
 "cells": [
  {
   "cell_type": "code",
   "execution_count": 4,
   "id": "c714c6bf-98e1-417b-9d9e-8fa06db1d58f",
   "metadata": {},
   "outputs": [],
   "source": [
    "from torch.utils import data\n",
    "import os\n",
    "from os.path import join, abspath, splitext, split, isdir, isfile\n",
    "from PIL import Image\n",
    "import numpy as np\n",
    "import cv2"
   ]
  },
  {
   "cell_type": "code",
   "execution_count": null,
   "id": "df8fd326-5918-469e-a077-f289266684c4",
   "metadata": {},
   "outputs": [],
   "source": []
  }
 ],
 "metadata": {
  "kernelspec": {
   "display_name": "Python 3 (ipykernel)",
   "language": "python",
   "name": "python3"
  },
  "language_info": {
   "codemirror_mode": {
    "name": "ipython",
    "version": 3
   },
   "file_extension": ".py",
   "mimetype": "text/x-python",
   "name": "python",
   "nbconvert_exporter": "python",
   "pygments_lexer": "ipython3",
   "version": "3.8.12"
  }
 },
 "nbformat": 4,
 "nbformat_minor": 5
}
